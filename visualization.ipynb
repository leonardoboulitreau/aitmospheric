{
 "cells": [
  {
   "cell_type": "markdown",
   "metadata": {},
   "source": [
    "# Load model, parameters, performance metrics"
   ]
  },
  {
   "cell_type": "code",
   "execution_count": 1,
   "metadata": {},
   "outputs": [],
   "source": [
    "import os\n",
    "import torch\n",
    "import argparse\n",
    "from models.vqvae import VQVAE\n",
    "import matplotlib.pyplot as plt\n",
    "import matplotlib.image as mpimg\n",
    "from torchvision.utils import make_grid\n",
    "import numpy as np\n",
    "\n",
    "%matplotlib inline\n",
    "device = torch.device(\"cuda\" if torch.cuda.is_available() else \"cpu\")\n",
    "\n",
    "\"\"\"\n",
    "Utility functions\n",
    "\"\"\"\n",
    "\n",
    "def load_model(model_filename):\n",
    "    path = os.getcwd() + '/results/'\n",
    "    \n",
    "    if torch.cuda.is_available():\n",
    "        data = torch.load(path + model_filename)\n",
    "    else:\n",
    "        data = torch.load(path+model_filename,map_location=lambda storage, loc: storage)\n",
    "    \n",
    "    params = data[\"hyperparameters\"]\n",
    "    \n",
    "    model = VQVAE(params['n_hiddens'], params['n_residual_hiddens'],\n",
    "                  params['n_residual_layers'], params['n_embeddings'], \n",
    "                  params['embedding_dim'], params['beta']).to(device)\n",
    "\n",
    "    model.load_state_dict(data['model'])\n",
    "    \n",
    "    return model, data\n",
    "\n",
    "from scipy.signal import savgol_filter\n",
    "\n",
    "def plot_metrics(data):\n",
    "    results = data[\"results\"]\n",
    "    recon_errors = savgol_filter(results[\"recon_errors\"], 19, 5)\n",
    "    perplexities = savgol_filter(results[\"perplexities\"], 19, 5)\n",
    "    loss_vals = savgol_filter(results[\"loss_vals\"], 19, 5)\n",
    "\n",
    "\n",
    "    f = plt.figure(figsize=(16,4))\n",
    "    ax = f.add_subplot(1,3,2)\n",
    "    ax.plot(recon_errors)\n",
    "    ax.set_yscale('log')\n",
    "    ax.set_title('Reconstruction Error')\n",
    "    ax.set_xlabel('iteration')\n",
    "\n",
    "    ax = f.add_subplot(1,3,3)\n",
    "    ax.plot(perplexities)\n",
    "    ax.set_title('Average codebook usage (perplexity).')\n",
    "    ax.set_xlabel('iteration')\n",
    "\n",
    "    ax = f.add_subplot(1,3,1)\n",
    "    ax.plot(loss_vals)\n",
    "    ax.set_yscale('log')\n",
    "    ax.set_title('Overall Loss')\n",
    "    ax.set_xlabel('iteration')\n",
    "    \n",
    "def display_image_grid(x):\n",
    "    x = make_grid(x.cpu().detach()+0.5)\n",
    "    x = x.numpy()\n",
    "    fig = plt.imshow(np.transpose(x, (1,2,0)), interpolation='nearest')\n",
    "    fig.axes.get_xaxis().set_visible(False)\n",
    "    fig.axes.get_yaxis().set_visible(False)\n",
    "    \n",
    "def reconstruct(data_loader,model):\n",
    "    (x, _) = next(iter(data_loader))\n",
    "    x = x.to(device)\n",
    "    vq_encoder_output = model.pre_quantization_conv(model.encoder(x))\n",
    "    _, z_q, _, _,e_indices = model.vector_quantization(vq_encoder_output)\n",
    "    \n",
    "    x_recon = model.decoder(z_q)\n",
    "    return x,x_recon, z_q,e_indices\n",
    "\n",
    "\"\"\"\n",
    "End of utilities\n",
    "\"\"\"\n",
    "\n",
    "model_filename = 'vqvae_data_static_block_data_ne512_de64_1000.pth'\n",
    "\n",
    "model,vqvae_data = load_model(model_filename)\n"
   ]
  },
  {
   "cell_type": "code",
   "execution_count": 2,
   "metadata": {},
   "outputs": [
    {
     "name": "stdout",
     "output_type": "stream",
     "text": [
      "LATENT_BLOCK_pixelcnn.pt\r\n",
      "vqvae_data_1embeddings1edim.pth\r\n",
      "vqvae_data_2embeddings1edim.pth\r\n",
      "vqvae_data_2x2zdim2embeddings16edim.pth\r\n",
      "vqvae_data_2x2zdim4embeddings16edim.pth\r\n",
      "vqvae_data_4embeddings16edim.pth\r\n",
      "vqvae_data_4embeddings1edim.pth\r\n",
      "vqvae_data_block_embedding32.pth\r\n",
      "vqvae_data_block_embedding64.pth\r\n",
      "vqvae_data_block_ne_16_eh_16.pth\r\n",
      "vqvae_data_june17run.pth\r\n",
      "vqvae_data_static_block_data_ne512_de64_1000.pth\r\n",
      "vqvae_data_static_block_data_ne512_de64_overfit.pth\r\n",
      "vqvae_data_thu_jun_6_16_56_26_2019.pth\r\n",
      "vqvae_data_thu_jun_6_19_56_51_2019.pth\r\n"
     ]
    }
   ],
   "source": [
    "!ls results/"
   ]
  },
  {
   "cell_type": "markdown",
   "metadata": {},
   "source": [
    "# Load dataset and loaders"
   ]
  },
  {
   "cell_type": "code",
   "execution_count": 3,
   "metadata": {},
   "outputs": [
    {
     "name": "stdout",
     "output_type": "stream",
     "text": [
      "Loading block data\n",
      "Done loading block data\n",
      "Loading block data\n",
      "Done loading block data\n"
     ]
    }
   ],
   "source": [
    "import utils\n",
    "training_data, validation_data, training_loader, validation_loader, x_train_var = utils.load_data_and_data_loaders('BLOCK', 32)"
   ]
  },
  {
   "cell_type": "markdown",
   "metadata": {},
   "source": [
    "# Reconstruct validation data"
   ]
  },
  {
   "cell_type": "code",
   "execution_count": 4,
   "metadata": {},
   "outputs": [
    {
     "name": "stderr",
     "output_type": "stream",
     "text": [
      "Clipping input data to the valid range for imshow with RGB data ([0..1] for floats or [0..255] for integers).\n"
     ]
    },
    {
     "name": "stdout",
     "output_type": "stream",
     "text": [
      "torch.Size([32, 3, 32, 32])\n"
     ]
    },
    {
     "data": {
      "image/png": "[encoded data removed]",
      "text/plain": [
       "<Figure size 432x288 with 1 Axes>"
      ]
     },
     "metadata": {
      "needs_background": "light"
     },
     "output_type": "display_data"
    }
   ],
   "source": [
    "x_val,x_val_recon,z_q,e_indices = reconstruct(validation_loader,model)\n",
    "print(x_val.shape)\n",
    "display_image_grid(x_val)"
   ]
  },
  {
   "cell_type": "code",
   "execution_count": 5,
   "metadata": {},
   "outputs": [
    {
     "name": "stderr",
     "output_type": "stream",
     "text": [
      "Clipping input data to the valid range for imshow with RGB data ([0..1] for floats or [0..255] for integers).\n"
     ]
    },
    {
     "data": {
      "image/png": "[encoded data removed]",
      "text/plain": [
       "<Figure size 432x288 with 1 Axes>"
      ]
     },
     "metadata": {
      "needs_background": "light"
     },
     "output_type": "display_data"
    }
   ],
   "source": [
    "display_image_grid(x_val_recon)\n"
   ]
  },
  {
   "cell_type": "markdown",
   "metadata": {},
   "source": [
    "# Smoothed Loss and Perplexity Values"
   ]
  },
  {
   "cell_type": "code",
   "execution_count": 6,
   "metadata": {},
   "outputs": [
    {
     "data": {
      "image/png": "[encoded data removed]",
      "text/plain": [
       "<Figure size 1152x288 with 3 Axes>"
      ]
     },
     "metadata": {
      "needs_background": "light"
     },
     "output_type": "display_data"
    }
   ],
   "source": [
    "plot_metrics(vqvae_data)"
   ]
  },
  {
   "cell_type": "markdown",
   "metadata": {},
   "source": [
    "# Sampling from latent space $z$\n",
    "\n",
    "Sampling from VQ VAEs is more subtle than normal sampling schemes. To elucidate this point we'll present three sampling schemes:\n",
    "\n",
    "1. Uniform sampling\n",
    "2. Categorical sampling from a histogram \n",
    "3. Sampling with an autoregressive PixelCNN\n",
    "\n",
    "Sampling scheme (1) produces scrambled results, because only a small percentage of all possible representations are actually utilized. If you sample uniformly, you will most likely get results outside of the data distribution, which is why they appear random.\n",
    "\n",
    "Sampling scheme (2) collects a histogram of representations and samples from the histogram. This works but is also incorrect because it limits us to only representations seen during construction of the histogram. Note that if $N_{\\text{histogram}} \\rightarrow \\infty $ then this scheme will work, but since we can't actually do this, we want a better way to approximate the disribution of our representation space.\n",
    "\n",
    "Scheme (3) is more complex but provides a principled way of sampling from the latent space. We train a Gated PixelCNN to approximate the distribution of the latent space. \n",
    "\n"
   ]
  },
  {
   "cell_type": "code",
   "execution_count": 8,
   "metadata": {},
   "outputs": [
    {
     "data": {
      "text/plain": [
       "{'batch_size': 32,\n",
       " 'n_updates': 10000,\n",
       " 'n_hiddens': 128,\n",
       " 'n_residual_hiddens': 32,\n",
       " 'n_residual_layers': 2,\n",
       " 'embedding_dim': 64,\n",
       " 'n_embeddings': 512,\n",
       " 'beta': 0.25,\n",
       " 'learning_rate': 0.0003,\n",
       " 'log_interval': 100,\n",
       " 'dataset': 'BLOCK',\n",
       " 'save': True,\n",
       " 'filename': 'static_block_data_ne512_de64_1000'}"
      ]
     },
     "execution_count": 8,
     "metadata": {},
     "output_type": "execute_result"
    }
   ],
   "source": [
    "params = vqvae_data['hyperparameters']\n",
    "params"
   ]
  },
  {
   "cell_type": "markdown",
   "metadata": {},
   "source": [
    "## Uniform sampling of latent space\n",
    "\n"
   ]
  },
  {
   "cell_type": "code",
   "execution_count": 9,
   "metadata": {},
   "outputs": [
    {
     "name": "stderr",
     "output_type": "stream",
     "text": [
      "Clipping input data to the valid range for imshow with RGB data ([0..1] for floats or [0..255] for integers).\n"
     ]
    },
    {
     "name": "stdout",
     "output_type": "stream",
     "text": [
      "torch.Size([2048, 1])\n"
     ]
    },
    {
     "data": {
      "image/png": "[encoded data removed]",
      "text/plain": [
       "<Figure size 432x288 with 1 Axes>"
      ]
     },
     "metadata": {
      "needs_background": "light"
     },
     "output_type": "display_data"
    }
   ],
   "source": [
    "def generate_samples(e_indices):\n",
    "    min_encodings = torch.zeros(e_indices.shape[0], params['n_embeddings']).to(device)\n",
    "    min_encodings.scatter_(1, e_indices, 1)\n",
    "    e_weights = model.vector_quantization.embedding.weight\n",
    "    z_q = torch.matmul(min_encodings, e_weights).view((params[\"batch_size\"],8,8,params[\"embedding_dim\"])) \n",
    "    z_q = z_q.permute(0, 3, 1, 2).contiguous()\n",
    " \n",
    "    x_recon = model.decoder(z_q)\n",
    "    return x_recon, z_q,e_indices\n",
    "    \n",
    "\n",
    "def uniform_samples(model):\n",
    " \n",
    "    rand = np.random.randint(params['n_embeddings'], size=(2048, 1))\n",
    "    min_encoding_indices = torch.tensor(rand).long().to(device)\n",
    "    x_recon, z_q,e_indices = generate_samples(min_encoding_indices)\n",
    "    \n",
    "    print(min_encoding_indices.shape)\n",
    "    return x_recon, z_q,e_indices\n",
    "\n",
    "x_val_recon,z_q,e_indices = uniform_samples(model)\n",
    "\n",
    "display_image_grid(x_val_recon)\n",
    "\n"
   ]
  },
  {
   "cell_type": "markdown",
   "metadata": {},
   "source": [
    "## Categorial Distribution Sampling"
   ]
  },
  {
   "cell_type": "code",
   "execution_count": 10,
   "metadata": {},
   "outputs": [
    {
     "name": "stderr",
     "output_type": "stream",
     "text": [
      "Clipping input data to the valid range for imshow with RGB data ([0..1] for floats or [0..255] for integers).\n"
     ]
    },
    {
     "name": "stdout",
     "output_type": "stream",
     "text": [
      "Total representations used: 98\n"
     ]
    },
    {
     "data": {
      "image/png": "[encoded data removed]",
      "text/plain": [
       "<Figure size 432x288 with 1 Axes>"
      ]
     },
     "metadata": {
      "needs_background": "light"
     },
     "output_type": "display_data"
    }
   ],
   "source": [
    "N = 100\n",
    "\n",
    "    \n",
    "def encode_observations():\n",
    "    all_e_indices = []\n",
    "    for i in range(N):\n",
    "        _,_,_,e_indices = reconstruct(validation_loader,model)\n",
    "        all_e_indices.append(e_indices)\n",
    "\n",
    "    return torch.cat(all_e_indices)\n",
    "\n",
    "e_indices = encode_observations()\n",
    "\n",
    "def count_representations():\n",
    "    d = {}\n",
    "    for i in range(32*N):\n",
    "        k = e_indices[64*i:64*i+64].squeeze().cpu().detach().numpy()\n",
    "        k = [str(j)+'-' for j in k]\n",
    "        k = ''.join(k)\n",
    "\n",
    "        if k not in d:\n",
    "            d[k] = 1\n",
    "        else:\n",
    "            d[k]+=1\n",
    "    \n",
    "    return d\n",
    "\n",
    "hist = count_representations()\n",
    "if '' in hist: del hist['']\n",
    "\n",
    "print('Total representations used:',len(hist.keys()))\n",
    "def sample_histogram(hist):\n",
    "    keys, vals = np.array(list(hist.keys())),np.array(list(hist.values()))\n",
    "    probs = np.array(vals)/sum(vals)\n",
    "    samples = np.random.choice(keys,params['batch_size'],p=probs,replace=True)\n",
    "    \n",
    "    samples = np.array([np.array([int(y) for y in x.split('-')[:-1]]) for x in samples])\n",
    "    \n",
    "    return samples\n",
    "    \n",
    "samples = sample_histogram(hist)\n",
    "\n",
    "def histogram_samples(model):\n",
    "    min_encoding_indices = torch.tensor(samples).reshape(-1,1).long().to(device)\n",
    "    x_recon, z_q,e_indices = generate_samples(min_encoding_indices)\n",
    "    \n",
    "    return x_recon, z_q,e_indices\n",
    "\n",
    "x_hist,_,_ = histogram_samples(model)\n",
    "\n",
    "display_image_grid(x_hist)\n"
   ]
  },
  {
   "cell_type": "markdown",
   "metadata": {},
   "source": [
    "## The most common representation"
   ]
  },
  {
   "cell_type": "code",
   "execution_count": 28,
   "metadata": {},
   "outputs": [
    {
     "name": "stderr",
     "output_type": "stream",
     "text": [
      "Clipping input data to the valid range for imshow with RGB data ([0..1] for floats or [0..255] for integers).\n"
     ]
    },
    {
     "name": "stdout",
     "output_type": "stream",
     "text": [
      "(2048, 1)\n"
     ]
    },
    {
     "data": {
      "image/png": "[encoded data removed]",
      "text/plain": [
       "<Figure size 432x288 with 1 Axes>"
      ]
     },
     "metadata": {
      "needs_background": "light"
     },
     "output_type": "display_data"
    }
   ],
   "source": [
    "most_common_sample_index = np.argmax(list(hist.values()))\n",
    "most_common_z = np.array([int(y) for y in list(hist.keys())[most_common_sample_index].split('-')[:-1]])\n",
    "\n",
    "\n",
    "def most_common_samples(model):\n",
    "    \n",
    "    samples = np.array(list(most_common_z)*32).reshape(-1,1)\n",
    "    print(samples.shape)\n",
    "    min_encoding_indices = torch.tensor(samples).reshape(-1,1).long().to(device)\n",
    "    x_recon, z_q,e_indices = generate_samples(min_encoding_indices)\n",
    "    \n",
    "    return x_recon, z_q,e_indices\n",
    "\n",
    "\n",
    "x_val_recon,z_q,e_indices = most_common_samples(model)\n",
    "\n",
    "display_image_grid(x_val_recon)\n"
   ]
  },
  {
   "cell_type": "markdown",
   "metadata": {},
   "source": [
    "# Reconstruct from PixelCNN"
   ]
  },
  {
   "cell_type": "code",
   "execution_count": 29,
   "metadata": {},
   "outputs": [],
   "source": [
    "import os\n",
    "data_folder_path = os.getcwd() \n",
    "data_file_path = data_folder_path + '/data/latent_samples.npy'\n",
    "\n",
    "samples = np.load(data_file_path,allow_pickle=True)"
   ]
  },
  {
   "cell_type": "code",
   "execution_count": 30,
   "metadata": {},
   "outputs": [
    {
     "name": "stderr",
     "output_type": "stream",
     "text": [
      "Clipping input data to the valid range for imshow with RGB data ([0..1] for floats or [0..255] for integers).\n"
     ]
    },
    {
     "data": {
      "image/png": "[encoded data removed]",
      "text/plain": [
       "<Figure size 432x288 with 1 Axes>"
      ]
     },
     "metadata": {
      "needs_background": "light"
     },
     "output_type": "display_data"
    }
   ],
   "source": [
    "def reconstruct_from_pixelcnn(model,samples):\n",
    "    \n",
    "\n",
    "    min_encoding_indices = torch.tensor(samples).reshape(-1,1).long().to(device)\n",
    "    x_recon, z_q,e_indices = generate_samples(min_encoding_indices)\n",
    "    \n",
    "    return x_recon, z_q,e_indices\n",
    "\n",
    "\n",
    "x_val_recon,z_q,e_indices = reconstruct_from_pixelcnn(model,samples)\n",
    "\n",
    "display_image_grid(x_val_recon)"
   ]
  },
  {
   "cell_type": "markdown",
   "metadata": {},
   "source": [
    "# Color coding"
   ]
  },
  {
   "cell_type": "code",
   "execution_count": 60,
   "metadata": {},
   "outputs": [
    {
     "data": {
      "text/plain": [
       "'\\n1. load all data\\n2. compute COM for all data\\n3. get representation indices for all data and hash them\\n4. organize all data by index for steps 1-3\\n5. build unique color scheme for all used representations\\n6. iterate through hash values and color the COM pixel with hash values\\n\\ndisplay resulting image\\n\\n'"
      ]
     },
     "execution_count": 60,
     "metadata": {},
     "output_type": "execute_result"
    }
   ],
   "source": [
    "\"\"\"\n",
    "1. load all data\n",
    "2. compute COM for all data\n",
    "3. get representation indices for all data and hash them\n",
    "4. organize all data by index for steps 1-3\n",
    "5. build unique color scheme for all used representations\n",
    "6. iterate through hash values and color the COM pixel with hash values\n",
    "\n",
    "display resulting image\n",
    "\n",
    "\"\"\""
   ]
  },
  {
   "cell_type": "code",
   "execution_count": 260,
   "metadata": {},
   "outputs": [],
   "source": [
    "import random\n",
    "import seaborn as sns\n",
    "\n",
    "def encode_data(data,model):\n",
    "    x = data.data # assumes youre using Pytorch formatted dataset\n",
    "    x = torch.tensor(x).float().to(device)\n",
    "    x = x.permute(0,3,1,2).contiguous()\n",
    "    x = x.to(device)\n",
    "    vq_encoder_output = model.pre_quantization_conv(model.encoder(x))\n",
    "    _, z_q, _, _,e_indices = model.vector_quantization(vq_encoder_output)\n",
    "    \n",
    "    x_recon = model.decoder(z_q)\n",
    "    return x,x_recon, z_q,e_indices\n",
    "\n",
    "def count_and_hash_representations(e_indices,prune=2):\n",
    "    x_hashes = []\n",
    "    d = {}\n",
    "    n = int(len(e_indices)/64)\n",
    "    for i in range(n):\n",
    "        k = e_indices[64*i:64*i+64].squeeze().cpu().detach().numpy()\n",
    "        hash_ = hash(tuple(k))\n",
    "\n",
    "        if hash_ not in d:\n",
    "            d[hash_] = 1\n",
    "        else:\n",
    "            d[hash_]+=1\n",
    "            \n",
    "        x_hashes.append(hash_)\n",
    "            \n",
    "    # prune hash table\n",
    "    d = dict((k, v) for k, v in d.items() if v >= prune)\n",
    "    \n",
    "    return d,x_hashes\n",
    "\n",
    "\n",
    "def create_color_template(n):\n",
    "    num_shades = n\n",
    "    if n < 1000:\n",
    "        sns.palplot(sns.husl_palette(num_shades))\n",
    "        color_list = sns.husl_palette(num_shades)\n",
    "    else:\n",
    "        sns.palplot(sns.cubehelix_palette(num_shades))\n",
    "        color_list = sns.cubehelix_palette(num_shades)\n",
    "        \n",
    "\n",
    "    rgb_list = []\n",
    "    for color in color_list:\n",
    "        rgb = []\n",
    "        for value in color:\n",
    "            value *= 255\n",
    "            rgb.append(int(value))\n",
    "        rgb_list.append(np.array(rgb).astype(int))\n",
    "\n",
    "    return rgb_list \n"
   ]
  },
  {
   "cell_type": "code",
   "execution_count": 261,
   "metadata": {},
   "outputs": [
    {
     "name": "stdout",
     "output_type": "stream",
     "text": [
      "399\n"
     ]
    },
    {
     "data": {
      "image/png": "[encoded data removed]",
      "text/plain": [
       "<Figure size 28728x72 with 1 Axes>"
      ]
     },
     "metadata": {
      "needs_background": "light"
     },
     "output_type": "display_data"
    }
   ],
   "source": [
    "from collections import Counter\n",
    "\n",
    "PRUNE = 0\n",
    "N_TOP_REPS = 500\n",
    "\n",
    "# get data and discrete indices\n",
    "data,_,_,e_indices = encode_data(training_data,model)\n",
    "\n",
    "# create a hash table with most common representations\n",
    "d, data_hashes = count_and_hash_representations(e_indices,PRUNE)\n",
    "\n",
    "d = dict(Counter(d).most_common(N_TOP_REPS))\n",
    "\n",
    "# count num of reps\n",
    "n = len(d.keys())\n",
    "print(n)\n",
    "colors = create_color_template(n)\n",
    "color_hash_table = {k:v for k,v in zip(d.keys(),colors)}\n",
    "\n",
    "data = data.cpu().detach().numpy()\n",
    "\n",
    "\n",
    "color_img = np.zeros((32,32,3))\n",
    "\n",
    "colored_data = data.copy()\n",
    "\n",
    "colored_idxs = []\n",
    "\n",
    "colored_img_dict = {}\n",
    "\n",
    "for k,(x,rep) in enumerate(zip(data,data_hashes)):\n",
    "    x = np.transpose(x,(1,2,0))\n",
    "    \n",
    "    block_ij = np.argwhere(x[:,:,1]>100)\n",
    "    \n",
    "    x_min = np.min(block_ij,0)\n",
    "    x_max = np.max(block_ij,0)\n",
    "    \n",
    "    i,j = (x_min + x_max)//2\n",
    "    \n",
    "    if rep not in color_hash_table:\n",
    "        color = np.array([255,255,255])\n",
    "        for idx in block_ij:\n",
    "            row,col = idx\n",
    "            colored_data[k,0,row,col] = color[0]\n",
    "            colored_data[k,1,row,col] = color[1]\n",
    "            colored_data[k,2,row,col] = color[2]\n",
    "    else:\n",
    "        colored_idxs.append(k)\n",
    "        \n",
    "            \n",
    "        color = np.array(color_hash_table[rep])\n",
    "        color_img[i,j] = color\n",
    "        for idx in block_ij:\n",
    "            row,col = idx\n",
    "            colored_data[k,0,row,col] = color[0]\n",
    "            colored_data[k,1,row,col] = color[1]\n",
    "            colored_data[k,2,row,col] = color[2]\n",
    "            color_img[row,col]=color\n",
    "            \n",
    "        if rep not in colored_img_dict:\n",
    "            colored_img_dict[rep] = [colored_data[k,:,:,:]]\n",
    "        else:\n",
    "            colored_img_dict[rep].append(colored_data[k,:,:,:])\n",
    "            \n",
    "        \n",
    "    "
   ]
  },
  {
   "cell_type": "code",
   "execution_count": 262,
   "metadata": {},
   "outputs": [
    {
     "data": {
      "image/png": "[encoded data removed]",
      "text/plain": [
       "<Figure size 432x288 with 1 Axes>"
      ]
     },
     "metadata": {
      "needs_background": "light"
     },
     "output_type": "display_data"
    }
   ],
   "source": [
    "import matplotlib.pyplot as plt\n",
    "import matplotlib.image as mpimg\n",
    "%matplotlib inline\n",
    "\n",
    "x = np.transpose(data[8],(1,2,0))\n",
    "x.shape\n",
    "\n",
    "imgplot = plt.imshow(color_img.astype(int))\n",
    "#imgplot.axes.get_xaxis().set_visible(False)\n",
    "#imgplot.axes.get_yaxis().set_visible(False)"
   ]
  },
  {
   "cell_type": "code",
   "execution_count": 263,
   "metadata": {},
   "outputs": [
    {
     "data": {
      "image/png": "[encoded data removed]",
      "text/plain": [
       "<Figure size 432x288 with 1 Axes>"
      ]
     },
     "metadata": {
      "needs_background": "light"
     },
     "output_type": "display_data"
    }
   ],
   "source": [
    "\n",
    "image_list = []\n",
    "\n",
    "for rep_imgs in list(colored_img_dict.values()):\n",
    "    image_list.append(torch.tensor(np.array(rep_imgs)[:4]).int())\n",
    "\n",
    "x = torch.cat(image_list[:10])\n",
    "for _ in range(2):\n",
    "    display_image_grid(x)\n"
   ]
  },
  {
   "cell_type": "code",
   "execution_count": 264,
   "metadata": {},
   "outputs": [
    {
     "data": {
      "text/plain": [
       "'\\nHow can we build a graph from a color image?\\n\\nStep 1: set up\\n\\n- Create an index to representation map (e.g. an array of all the representations) of length N\\n- Create a color to index hash table\\n- Create new image representation that takes color image and replaces all RGB colors with indices\\n- Create a N X N matrix of zeros\\n\\nStep 2: graph construction\\n\\nScan the color image twice - horizontally and vertically\\n\\n1. start at origin pixel (0,0), mark its color\\nWhile pixels not exhausted\\n2. move one step\\n3. check if color at this step is the same as previous color\\n4. if color is same, skip step 5\\n5. if color is different, add 1 to matrix[i][j] and matrix[j][i] where i is previous color and j is current color\\n6. mark current pixel color and move on to next pixel\\n\\ndo this twice for vertical and horizontal pixels\\n'"
      ]
     },
     "execution_count": 264,
     "metadata": {},
     "output_type": "execute_result"
    }
   ],
   "source": [
    "\"\"\"\n",
    "How can we build a graph from a color image?\n",
    "\n",
    "Step 1: set up\n",
    "\n",
    "- Create an index to representation map (e.g. an array of all the representations) of length N\n",
    "- Create a color to index hash table\n",
    "- Create new image representation that takes color image and replaces all RGB colors with indices\n",
    "- Create a N X N matrix of zeros\n",
    "\n",
    "Step 2: graph construction\n",
    "\n",
    "Scan the color image twice - horizontally and vertically\n",
    "\n",
    "1. start at origin pixel (0,0), mark its color\n",
    "While pixels not exhausted\n",
    "2. move one step\n",
    "3. check if color at this step is the same as previous color\n",
    "4. if color is same, skip step 5\n",
    "5. if color is different, add 1 to matrix[i][j] and matrix[j][i] where i is previous color and j is current color\n",
    "6. mark current pixel color and move on to next pixel\n",
    "\n",
    "do this twice for vertical and horizontal pixels\n",
    "\"\"\""
   ]
  },
  {
   "cell_type": "code",
   "execution_count": 265,
   "metadata": {},
   "outputs": [],
   "source": [
    "# Step 1\n",
    "# Create an index to representation map\n",
    "# add black (None representation)\n",
    "index_rep_map = [np.array([0,0,0])]\n",
    "# add representations\n",
    "index_rep_map+=list(color_hash_table.values())\n",
    "index_rep_map = np.array(index_rep_map)\n",
    "\n",
    "# Create a color to index hash table\n",
    "color_index_hash_table = {str(v):i for i,v in enumerate(index_rep_map)}\n",
    "# Create new image representation that takes color image and replaces all RGB colors with indices\n",
    "count = 0\n",
    "# iterate over colors\n",
    "index_img = np.zeros((32,32))\n",
    "\n",
    "color_img_int = color_img.astype(int)\n",
    "for i in range(color_img_int.shape[0]):\n",
    "    for j in range(color_img_int.shape[1]):\n",
    "        color_string = str(color_img_int[i,j,:])\n",
    "        index_img[i,j] = color_index_hash_table[color_string]\n",
    "index_img = index_img.astype(int)\n",
    "\n"
   ]
  },
  {
   "cell_type": "code",
   "execution_count": 266,
   "metadata": {},
   "outputs": [],
   "source": [
    "# Step 1 graph init\n",
    "\n",
    "# Create a N X N matrix of zeros\n",
    "n = len(index_rep_map)\n",
    "graph = np.zeros((n,n)).astype(int)\n",
    "\n",
    "# Step 2\n",
    "\n",
    "# horizontal and vertical scans\n",
    "m = index_img.shape[0]\n",
    "horizontal_mark = None\n",
    "\n",
    "for i in range(m):\n",
    "    for j in range(m):\n",
    "        # horizontal scan\n",
    "        # make sure j-1 > -1\n",
    "        if j>0:\n",
    "            current_color = index_img[i][j]\n",
    "            previous_color = index_img[i][j-1]\n",
    "            if current_color != previous_color:\n",
    "                graph[current_color][previous_color]+=1\n",
    "                graph[previous_color][current_color]+=1\n",
    "        # vertical scan\n",
    "        # make sure i-1<-1\n",
    "        if i>0:\n",
    "            current_color = index_img[i][j]\n",
    "            previous_color = index_img[i-1][j]\n",
    "            if current_color != previous_color:\n",
    "                graph[current_color][previous_color]+=1\n",
    "                graph[previous_color][current_color]+=1\n",
    "            \n",
    "        \n"
   ]
  },
  {
   "cell_type": "code",
   "execution_count": 267,
   "metadata": {},
   "outputs": [
    {
     "data": {
      "text/plain": [
       "(399, 399)"
      ]
     },
     "execution_count": 267,
     "metadata": {},
     "output_type": "execute_result"
    }
   ],
   "source": [
    "binary_graph = graph.copy()\n",
    "binary_graph[graph>0]=1\n",
    "binary_graph_of_reps_only = binary_graph[1:,1:]\n",
    "binary_graph_of_reps_only.shape"
   ]
  },
  {
   "cell_type": "code",
   "execution_count": 268,
   "metadata": {},
   "outputs": [],
   "source": [
    "\"\"\"\n",
    "shortest path algorithm - BFS\n",
    "\n",
    "graph representation: adjacency dict\n",
    "\"\"\"\n",
    "\n",
    "from collections import deque\n",
    "\n",
    "def adjacency_matrix_to_dict(matrix):\n",
    "    n = matrix.shape[0]\n",
    "    g_dict = {k:set([]) for k in range(n)}\n",
    "    \n",
    "    for i in range(n):\n",
    "        for j in range(n):\n",
    "            if matrix[i][j]:\n",
    "                g_dict[i].add(j)\n",
    "    g_dict = {k:list(v) for k,v in g_dict.items()}\n",
    "    return g_dict\n",
    "\n"
   ]
  },
  {
   "cell_type": "code",
   "execution_count": 269,
   "metadata": {},
   "outputs": [],
   "source": [
    "adjacency_list = adjacency_matrix_to_dict(binary_graph)"
   ]
  },
  {
   "cell_type": "code",
   "execution_count": 277,
   "metadata": {},
   "outputs": [
    {
     "data": {
      "text/plain": [
       "[11, 397, 12]"
      ]
     },
     "execution_count": 277,
     "metadata": {},
     "output_type": "execute_result"
    }
   ],
   "source": [
    "def BFS(G,start,end):\n",
    "    #assert start in G and end in G, 'start (or) end node not in Graph'\n",
    "    #assert G[start] and G[end], 'start (or) end nodes are disjoint'\n",
    "    q = deque([])\n",
    "    q.append([start])\n",
    "    \n",
    "    visited =set([start])\n",
    "    path = []\n",
    "    \n",
    "    while q:\n",
    "        \n",
    "        path = q.popleft()\n",
    "        node = path[-1]\n",
    "        if node == end:\n",
    "            return path\n",
    "        else:\n",
    "            for adjacent in G.get(node,[node]):\n",
    "                new_path = list(path)\n",
    "                new_path.append(adjacent)\n",
    "                q.append(new_path)\n",
    " \n",
    "    return []\n",
    "\n",
    "BFS(adjacency_list,11,12)"
   ]
  },
  {
   "cell_type": "code",
   "execution_count": 271,
   "metadata": {},
   "outputs": [
    {
     "data": {
      "text/plain": [
       "{0: [257,\n",
       "  2,\n",
       "  255,\n",
       "  387,\n",
       "  383,\n",
       "  137,\n",
       "  395,\n",
       "  12,\n",
       "  143,\n",
       "  17,\n",
       "  273,\n",
       "  276,\n",
       "  23,\n",
       "  28,\n",
       "  158,\n",
       "  33,\n",
       "  34,\n",
       "  163,\n",
       "  164,\n",
       "  169,\n",
       "  42,\n",
       "  298,\n",
       "  46,\n",
       "  47,\n",
       "  63,\n",
       "  320,\n",
       "  323,\n",
       "  68,\n",
       "  72,\n",
       "  73,\n",
       "  329,\n",
       "  341,\n",
       "  86,\n",
       "  351,\n",
       "  98,\n",
       "  354,\n",
       "  357,\n",
       "  104,\n",
       "  106,\n",
       "  362,\n",
       "  367,\n",
       "  127],\n",
       " 1: [384, 2, 4, 392, 399, 16, 112, 88, 94],\n",
       " 2: [0, 1, 384, 3, 4, 7, 167, 73, 169, 170, 394, 397, 17, 52, 377, 58],\n",
       " 3: [33, 2, 9, 169, 367, 55, 24, 58, 159],\n",
       " 4: [1, 2, 392, 16, 52],\n",
       " 5: [16, 9, 52, 396],\n",
       " 6: [],\n",
       " 7: [2, 165, 394, 44, 13, 52, 58],\n",
       " 8: [389, 398, 112, 50, 374, 88],\n",
       " 9: [3, 5, 396, 16, 55, 24, 89],\n",
       " 10: [],\n",
       " 11: [165, 394, 141, 397, 20],\n",
       " 12: [0, 136, 393, 397, 86, 27],\n",
       " 13: [58, 44, 165, 7],\n",
       " 14: [],\n",
       " 15: [],\n",
       " 16: [1, 4, 5, 392, 9, 398, 52, 88, 89],\n",
       " 17: [0, 384, 2, 387, 94],\n",
       " 18: [],\n",
       " 19: [],\n",
       " 20: [168, 393, 11, 109, 141, 397, 378, 27, 93],\n",
       " 21: [],\n",
       " 22: [393, 163],\n",
       " 23: [0, 34, 323, 50, 374, 255],\n",
       " 24: [320, 33, 386, 3, 388, 9, 371, 89, 159],\n",
       " 25: [],\n",
       " 26: [],\n",
       " 27: [393, 12, 20, 397],\n",
       " 28: [0, 387, 42, 46, 47, 63],\n",
       " 29: [320, 34, 371],\n",
       " 30: [],\n",
       " 31: [],\n",
       " 32: [],\n",
       " 33: [0, 320, 3, 367, 24, 159],\n",
       " 34: [0, 320, 323, 50, 23, 29],\n",
       " 35: [],\n",
       " 36: [],\n",
       " 37: [],\n",
       " 38: [],\n",
       " 39: [],\n",
       " 40: [],\n",
       " 41: [],\n",
       " 42: [0, 387, 28, 47],\n",
       " 43: [],\n",
       " 44: [165, 71, 7, 13, 377],\n",
       " 45: [],\n",
       " 46: [0, 143, 28, 63, 127],\n",
       " 47: [0, 42, 28],\n",
       " 48: [],\n",
       " 49: [],\n",
       " 50: [34, 389, 391, 8, 398, 371, 374, 23],\n",
       " 51: [],\n",
       " 52: [2, 4, 5, 7, 170, 394, 396, 16],\n",
       " 53: [],\n",
       " 54: [],\n",
       " 55: [9, 58, 3, 396],\n",
       " 56: [],\n",
       " 57: [],\n",
       " 58: [2, 3, 7, 396, 13, 55],\n",
       " 59: [],\n",
       " 60: [],\n",
       " 61: [],\n",
       " 62: [],\n",
       " 63: [0, 28, 46, 143],\n",
       " 64: [],\n",
       " 65: [],\n",
       " 66: [],\n",
       " 67: [],\n",
       " 68: [0, 378, 104, 351],\n",
       " 69: [],\n",
       " 70: [],\n",
       " 71: [357, 165, 106, 395, 44, 341, 377, 383],\n",
       " 72: [0, 98, 164, 399, 340],\n",
       " 73: [0, 2, 397],\n",
       " 74: [],\n",
       " 75: [],\n",
       " 76: [],\n",
       " 77: [],\n",
       " 78: [],\n",
       " 79: [],\n",
       " 80: [],\n",
       " 81: [],\n",
       " 82: [],\n",
       " 83: [],\n",
       " 84: [],\n",
       " 85: [],\n",
       " 86: [0, 136, 329, 362, 393, 12, 276],\n",
       " 87: [],\n",
       " 88: [1, 8, 398, 112, 16],\n",
       " 89: [16, 9, 398, 24],\n",
       " 90: [],\n",
       " 91: [],\n",
       " 92: [],\n",
       " 93: [163, 109, 20, 378, 158, 351],\n",
       " 94: [384, 1, 387, 399, 17],\n",
       " 95: [],\n",
       " 96: [],\n",
       " 97: [],\n",
       " 98: [0, 72, 366, 255],\n",
       " 99: [],\n",
       " 100: [],\n",
       " 101: [],\n",
       " 102: [],\n",
       " 103: [],\n",
       " 104: [0, 257, 68, 168],\n",
       " 105: [],\n",
       " 106: [0, 357, 341, 71],\n",
       " 107: [],\n",
       " 108: [],\n",
       " 109: [393, 163, 20, 93],\n",
       " 110: [],\n",
       " 111: [],\n",
       " 112: [1, 8, 366, 399, 340, 88],\n",
       " 113: [],\n",
       " 114: [],\n",
       " 115: [],\n",
       " 116: [],\n",
       " 117: [],\n",
       " 118: [],\n",
       " 119: [],\n",
       " 120: [],\n",
       " 121: [],\n",
       " 122: [],\n",
       " 123: [],\n",
       " 124: [],\n",
       " 125: [],\n",
       " 126: [],\n",
       " 127: [0, 137, 46, 329],\n",
       " 128: [],\n",
       " 129: [],\n",
       " 130: [],\n",
       " 131: [],\n",
       " 132: [],\n",
       " 133: [],\n",
       " 134: [],\n",
       " 135: [],\n",
       " 136: [12, 276, 86],\n",
       " 137: [0, 273, 127],\n",
       " 138: [],\n",
       " 139: [],\n",
       " 140: [],\n",
       " 141: [168, 11, 20, 395],\n",
       " 142: [],\n",
       " 143: [0, 46, 63],\n",
       " 144: [],\n",
       " 145: [],\n",
       " 146: [],\n",
       " 147: [],\n",
       " 148: [],\n",
       " 149: [],\n",
       " 150: [],\n",
       " 151: [],\n",
       " 152: [],\n",
       " 153: [],\n",
       " 154: [],\n",
       " 155: [],\n",
       " 156: [],\n",
       " 157: [],\n",
       " 158: [0, 93, 351],\n",
       " 159: [24, 33, 3],\n",
       " 160: [],\n",
       " 161: [],\n",
       " 162: [],\n",
       " 163: [0, 362, 109, 22, 93],\n",
       " 164: [0, 72, 387, 399],\n",
       " 165: [71, 7, 394, 11, 44, 13, 395],\n",
       " 166: [],\n",
       " 167: [169, 2, 377, 383],\n",
       " 168: [257, 104, 395, 141, 20, 378],\n",
       " 169: [0, 2, 3, 354, 167, 367, 383],\n",
       " 170: [2, 52, 394],\n",
       " 171: [],\n",
       " 172: [],\n",
       " 173: [],\n",
       " 174: [],\n",
       " 175: [],\n",
       " 176: [],\n",
       " 177: [],\n",
       " 178: [],\n",
       " 179: [],\n",
       " 180: [],\n",
       " 181: [],\n",
       " 182: [],\n",
       " 183: [],\n",
       " 184: [],\n",
       " 185: [],\n",
       " 186: [],\n",
       " 187: [],\n",
       " 188: [],\n",
       " 189: [],\n",
       " 190: [],\n",
       " 191: [],\n",
       " 192: [],\n",
       " 193: [],\n",
       " 194: [],\n",
       " 195: [],\n",
       " 196: [],\n",
       " 197: [],\n",
       " 198: [],\n",
       " 199: [],\n",
       " 200: [],\n",
       " 201: [],\n",
       " 202: [],\n",
       " 203: [],\n",
       " 204: [],\n",
       " 205: [],\n",
       " 206: [],\n",
       " 207: [],\n",
       " 208: [],\n",
       " 209: [],\n",
       " 210: [],\n",
       " 211: [],\n",
       " 212: [],\n",
       " 213: [],\n",
       " 214: [],\n",
       " 215: [],\n",
       " 216: [],\n",
       " 217: [],\n",
       " 218: [],\n",
       " 219: [],\n",
       " 220: [],\n",
       " 221: [],\n",
       " 222: [],\n",
       " 223: [],\n",
       " 224: [],\n",
       " 225: [],\n",
       " 226: [],\n",
       " 227: [],\n",
       " 228: [],\n",
       " 229: [],\n",
       " 230: [],\n",
       " 231: [],\n",
       " 232: [],\n",
       " 233: [],\n",
       " 234: [],\n",
       " 235: [],\n",
       " 236: [],\n",
       " 237: [],\n",
       " 238: [],\n",
       " 239: [],\n",
       " 240: [],\n",
       " 241: [],\n",
       " 242: [],\n",
       " 243: [],\n",
       " 244: [],\n",
       " 245: [],\n",
       " 246: [],\n",
       " 247: [],\n",
       " 248: [],\n",
       " 249: [],\n",
       " 250: [],\n",
       " 251: [],\n",
       " 252: [],\n",
       " 253: [],\n",
       " 254: [],\n",
       " 255: [0, 98, 374, 23],\n",
       " 256: [],\n",
       " 257: [0, 298, 104, 168],\n",
       " 258: [],\n",
       " 259: [],\n",
       " 260: [],\n",
       " 261: [],\n",
       " 262: [],\n",
       " 263: [],\n",
       " 264: [],\n",
       " 265: [],\n",
       " 266: [],\n",
       " 267: [],\n",
       " 268: [],\n",
       " 269: [],\n",
       " 270: [],\n",
       " 271: [],\n",
       " 272: [],\n",
       " 273: [0, 137, 329],\n",
       " 274: [],\n",
       " 275: [],\n",
       " 276: [0, 329, 136, 86],\n",
       " 277: [],\n",
       " 278: [],\n",
       " 279: [],\n",
       " 280: [],\n",
       " 281: [],\n",
       " 282: [],\n",
       " 283: [],\n",
       " 284: [],\n",
       " 285: [],\n",
       " 286: [],\n",
       " 287: [],\n",
       " 288: [],\n",
       " 289: [],\n",
       " 290: [],\n",
       " 291: [],\n",
       " 292: [],\n",
       " 293: [],\n",
       " 294: [],\n",
       " 295: [],\n",
       " 296: [],\n",
       " 297: [],\n",
       " 298: [0, 257, 395],\n",
       " 299: [],\n",
       " 300: [],\n",
       " 301: [],\n",
       " 302: [],\n",
       " 303: [],\n",
       " 304: [],\n",
       " 305: [],\n",
       " 306: [],\n",
       " 307: [],\n",
       " 308: [],\n",
       " 309: [],\n",
       " 310: [],\n",
       " 311: [],\n",
       " 312: [],\n",
       " 313: [],\n",
       " 314: [],\n",
       " 315: [],\n",
       " 316: [],\n",
       " 317: [],\n",
       " 318: [],\n",
       " 319: [],\n",
       " 320: [0, 33, 34, 371, 24, 29],\n",
       " 321: [],\n",
       " 322: [],\n",
       " 323: [0, 34, 23],\n",
       " 324: [],\n",
       " 325: [],\n",
       " 326: [],\n",
       " 327: [],\n",
       " 328: [],\n",
       " 329: [0, 273, 276, 86, 127],\n",
       " 330: [],\n",
       " 331: [],\n",
       " 332: [],\n",
       " 333: [],\n",
       " 334: [],\n",
       " 335: [],\n",
       " 336: [],\n",
       " 337: [],\n",
       " 338: [],\n",
       " 339: [],\n",
       " 340: [72, 112, 366, 399],\n",
       " 341: [0, 106, 395, 71],\n",
       " 342: [],\n",
       " 343: [],\n",
       " 344: [],\n",
       " 345: [],\n",
       " 346: [],\n",
       " 347: [],\n",
       " 348: [],\n",
       " 349: [],\n",
       " 350: [],\n",
       " 351: [0, 68, 93, 158],\n",
       " 352: [],\n",
       " 353: [],\n",
       " 354: [0, 169],\n",
       " 355: [],\n",
       " 356: [],\n",
       " 357: [0, 106, 383, 71],\n",
       " 358: [],\n",
       " 359: [],\n",
       " 360: [],\n",
       " 361: [],\n",
       " 362: [0, 393, 163, 86],\n",
       " 363: [],\n",
       " 364: [],\n",
       " 365: [],\n",
       " 366: [112, 98, 340, 374],\n",
       " 367: [0, 33, 3, 169],\n",
       " 368: [],\n",
       " 369: [],\n",
       " 370: [],\n",
       " 371: [320, 386, 391, 50, 24, 29],\n",
       " 372: [],\n",
       " 373: [],\n",
       " 374: [389, 8, 366, 50, 23, 255],\n",
       " 375: [],\n",
       " 376: [],\n",
       " 377: [167, 2, 44, 71],\n",
       " 378: [168, 20, 93, 68],\n",
       " 379: [],\n",
       " 380: [],\n",
       " 381: [],\n",
       " 382: [],\n",
       " 383: [0, 357, 167, 71, 169],\n",
       " 384: [1, 2, 17, 94],\n",
       " 385: [],\n",
       " 386: [24, 371, 388],\n",
       " 387: [0, 164, 42, 399, 17, 28, 94],\n",
       " 388: [24, 386, 398, 391],\n",
       " 389: [8, 50, 374],\n",
       " 390: [],\n",
       " 391: [50, 371, 388, 398],\n",
       " 392: [16, 1, 4],\n",
       " 393: [362, 12, 109, 20, 86, 22, 27],\n",
       " 394: [2, 165, 7, 170, 11, 397, 52],\n",
       " 395: [0, 165, 71, 168, 298, 141, 341],\n",
       " 396: [5, 9, 52, 55, 58],\n",
       " 397: [2, 73, 394, 11, 12, 20, 27],\n",
       " 398: [388, 391, 8, 16, 50, 88, 89],\n",
       " 399: [1, 387, 164, 72, 112, 340, 94]}"
      ]
     },
     "execution_count": 271,
     "metadata": {},
     "output_type": "execute_result"
    }
   ],
   "source": [
    "adjacency_list"
   ]
  },
  {
   "cell_type": "code",
   "execution_count": null,
   "metadata": {},
   "outputs": [],
   "source": []
  },
  {
   "cell_type": "code",
   "execution_count": null,
   "metadata": {},
   "outputs": [],
   "source": [
    "\"\"\"\n",
    "ASIDE: what's a better way to construct a graph?\n",
    "\n",
    "Currently, using the color image as ground truth is a bad a idea because it is a lossy representation of actual\n",
    "connections.\n",
    "\n",
    "The best way to build a graph is to run VQ VAE on data and keep track of transitions \n",
    "\n",
    "e.g. each time z_i -> z_j and i != j, hash the representation and +=1 in some monster adjacency dictionary\n",
    "to keep the representations fixed, you can pick to N reps and then only count if the transition is in one of those \n",
    "reps\n",
    "\"\"\""
   ]
  },
  {
   "cell_type": "code",
   "execution_count": null,
   "metadata": {},
   "outputs": [],
   "source": [
    "\"\"\"\n",
    "Run local policy with a reward specified from global policy\n",
    "\n",
    "Given start observation o_1 and end observation o_2, construct plan with graph\n",
    "\n",
    "E.g.\n",
    "suppose o_1 -> z_7 and o_2 -> z_9 construct graph z_7 -> z_0 -> z_1 -> z_9\n",
    "and then train goal conditioned policy that needs to solve curriculum\n",
    "pi(a|o,z_goal) where z_goal = z_0 then z_1 and then z_9 depending on which current z_j you're in\n",
    "\n",
    "\n",
    "\"\"\"\n",
    "\n",
    "\"\"\"\n",
    "What kind of policy should we run?\n",
    "\n",
    "Off-policy:\n",
    "\n",
    "In the off-policy case, we can collect a bunch of data (i.e. the space will be explored), we can then \n",
    "- collect a replay buffer of observations\n",
    "- then train a VQ VAE\n",
    "- then create a replay buffer with latents \n",
    "- then learn a goal conditioned policy\n",
    "\n",
    "How do we learn goal conditioned policies? Try the HER thing\n",
    "\n",
    "HER thing: input concatenated state || goal and train policy that way\n",
    "\n",
    "how does it work with representation learning?\n",
    "\n",
    "- after each trajectory (z_1,_z_1,z_17,z_5,z_5, etc) relabel as though agent was trying to achieve\n",
    "some latent state in the trajectory (e.g. z_j) and store transitions (z_i || z_j) in the replay buffer\n",
    "\n",
    "(Notes:\n",
    "- by the way you can go through ALL the representations achieved\n",
    "- maybe best to just reward the final latent observation so that it is always forward thinking\n",
    ")\n",
    "- after this policy is trained it should be able to arrive at any latent goal state z_i\n",
    "\n",
    "how do we treat representations - i.e. use entire matrix or an encoding?\n",
    "\n",
    "\n",
    "PLAN:\n",
    "\n",
    "Try with Block world. \n",
    "- Train VQ VAE on random block world\n",
    "- Train HER on latent representation \n",
    "    - flatten the 8x8 latent image into a 64 dim vector\n",
    "- Optional: provide .1 points for moving to different representation than current one, and 1 point for moving to\n",
    "  HER representation \n",
    "- use DDPG or TD3 variant (continuous actions)\n",
    "- At test time make a plan z_1 - z_2 - z_N and have agent reach each goal individually\n",
    "- Retrain VQ VAE periodically, and reconstruct graph\n",
    "\n",
    "options for reward relabling\n",
    "\n",
    "option 1: teach agent to reach any goal\n",
    "1. train time - normal HER\n",
    "2. test time - make a plan z_1 -> z_2 ... -> z_g and have policy follow plan\n",
    "\n",
    "option 2: teach agent to reach goal sequence\n",
    "1. train time - pick random future goal like in HER, find graph to said goal in path and reward path states\n",
    "2. test time - same as (2) previously\n",
    "\n",
    "option 1 is simpler let's do that\n",
    "\n",
    "\n",
    "\n",
    "\n",
    "FUTURE:\n",
    "\n",
    "train in robotic simulators e.g. fetch reach\n",
    "\"\"\""
   ]
  },
  {
   "cell_type": "code",
   "execution_count": null,
   "metadata": {},
   "outputs": [],
   "source": [
    "\"\"\"\n",
    "how do we make a better / cleaner graph?\n",
    "\n",
    "first, run a VQ VAE over the data and construct the graph from transitions NOT from the final color image\n",
    "\n",
    "we can choose N representations put them in set S and run the VQ VAE over the data\n",
    "then if the encoding is inside the set S, we keep it, if not we set it to the null encoding \n",
    "\n",
    "\n",
    "\"\"\""
   ]
  }
 ],
 "metadata": {
  "kernelspec": {
   "display_name": "Python 3",
   "language": "python",
   "name": "python3"
  },
  "language_info": {
   "codemirror_mode": {
    "name": "ipython",
    "version": 3
   },
   "file_extension": ".py",
   "mimetype": "text/x-python",
   "name": "python",
   "nbconvert_exporter": "python",
   "pygments_lexer": "ipython3",
   "version": "3.7.3"
  }
 },
 "nbformat": 4,
 "nbformat_minor": 2
}
